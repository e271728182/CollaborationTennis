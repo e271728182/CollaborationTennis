{
 "cells": [
  {
   "cell_type": "markdown",
   "metadata": {},
   "source": [
    "# Collaboration and Competition\n",
    "\n",
    "---\n",
    "\n",
    "You are welcome to use this coding environment to train your agent for the project.  Follow the instructions below to get started!\n",
    "\n",
    "### 1. Start the Environment\n",
    "\n",
    "Run the next code cell to install a few packages.  This line will take a few minutes to run!"
   ]
  },
  {
   "cell_type": "code",
   "execution_count": 1,
   "metadata": {},
   "outputs": [],
   "source": [
    "!pip -q install ./python"
   ]
  },
  {
   "cell_type": "code",
   "execution_count": 2,
   "metadata": {},
   "outputs": [],
   "source": [
    "import gym\n",
    "import random\n",
    "import torch\n",
    "import numpy as np\n",
    "from collections import deque\n",
    "import matplotlib.pyplot as plt\n",
    "%matplotlib inline\n",
    "\n",
    "#from ddpg_agent import Agent\n",
    "from ddpg_agent3 import *"
   ]
  },
  {
   "cell_type": "markdown",
   "metadata": {},
   "source": [
    "The environment is already saved in the Workspace and can be accessed at the file path provided below. "
   ]
  },
  {
   "cell_type": "code",
   "execution_count": 3,
   "metadata": {},
   "outputs": [
    {
     "name": "stderr",
     "output_type": "stream",
     "text": [
      "INFO:unityagents:\n",
      "'Academy' started successfully!\n",
      "Unity Academy name: Academy\n",
      "        Number of Brains: 1\n",
      "        Number of External Brains : 1\n",
      "        Lesson number : 0\n",
      "        Reset Parameters :\n",
      "\t\t\n",
      "Unity brain name: TennisBrain\n",
      "        Number of Visual Observations (per agent): 0\n",
      "        Vector Observation space type: continuous\n",
      "        Vector Observation space size (per agent): 8\n",
      "        Number of stacked Vector Observation: 3\n",
      "        Vector Action space type: continuous\n",
      "        Vector Action space size (per agent): 2\n",
      "        Vector Action descriptions: , \n"
     ]
    }
   ],
   "source": [
    "from unityagents import UnityEnvironment\n",
    "import numpy as np\n",
    "\n",
    "env = UnityEnvironment(file_name=\"/data/Tennis_Linux_NoVis/Tennis\")"
   ]
  },
  {
   "cell_type": "markdown",
   "metadata": {},
   "source": [
    "Environments contain **_brains_** which are responsible for deciding the actions of their associated agents. Here we check for the first brain available, and set it as the default brain we will be controlling from Python."
   ]
  },
  {
   "cell_type": "code",
   "execution_count": 4,
   "metadata": {},
   "outputs": [
    {
     "name": "stdout",
     "output_type": "stream",
     "text": [
      "['TennisBrain']\n"
     ]
    }
   ],
   "source": [
    "print(env.brain_names)\n",
    "# get the default brain\n",
    "brain_name = env.brain_names[0]\n",
    "brain = env.brains[brain_name]\n"
   ]
  },
  {
   "cell_type": "markdown",
   "metadata": {},
   "source": [
    "### 2. Examine the State and Action Spaces\n",
    "\n",
    "Run the code cell below to print some information about the environment."
   ]
  },
  {
   "cell_type": "code",
   "execution_count": 5,
   "metadata": {},
   "outputs": [
    {
     "name": "stdout",
     "output_type": "stream",
     "text": [
      "Number of agents: 2\n",
      "Size of each action: 2\n",
      "There are 2 agents. Each observes a state with length: 24\n",
      "The state for the first agent looks like: [ 0.          0.          0.          0.          0.          0.          0.\n",
      "  0.          0.          0.          0.          0.          0.          0.\n",
      "  0.          0.         -6.4669857  -1.5         0.          0.\n",
      " -6.83172083  6.          0.          0.        ]\n"
     ]
    }
   ],
   "source": [
    "# reset the environment\n",
    "env_info = env.reset(train_mode=True)[brain_name]\n",
    "\n",
    "# number of agents \n",
    "num_agents = len(env_info.agents)\n",
    "print('Number of agents:', num_agents)\n",
    "\n",
    "# size of each action\n",
    "action_size = brain.vector_action_space_size\n",
    "print('Size of each action:', action_size)\n",
    "\n",
    "# examine the state space \n",
    "states = env_info.vector_observations\n",
    "state_size = states.shape[1]\n",
    "print('There are {} agents. Each observes a state with length: {}'.format(states.shape[0], state_size))\n",
    "print('The state for the first agent looks like:', states[1])"
   ]
  },
  {
   "cell_type": "code",
   "execution_count": 11,
   "metadata": {},
   "outputs": [
    {
     "name": "stdout",
     "output_type": "stream",
     "text": [
      "2\n"
     ]
    }
   ],
   "source": [
    "print(action_size)"
   ]
  },
  {
   "cell_type": "markdown",
   "metadata": {},
   "source": [
    "### 3. Take Random Actions in the Environment\n",
    "\n",
    "In the next code cell, you will learn how to use the Python API to control the agent and receive feedback from the environment.\n",
    "\n",
    "Note that **in this coding environment, you will not be able to watch the agents while they are training**, and you should set `train_mode=True` to restart the environment."
   ]
  },
  {
   "cell_type": "code",
   "execution_count": 6,
   "metadata": {},
   "outputs": [
    {
     "name": "stdout",
     "output_type": "stream",
     "text": [
      "(2, 24)\n"
     ]
    }
   ],
   "source": [
    "actions = np.random.randn(num_agents, action_size)\n",
    "states = env_info.vector_observations \n",
    "a=states[0]\n",
    "b=states[1]\n",
    "print(states.shape)\n"
   ]
  },
  {
   "cell_type": "code",
   "execution_count": null,
   "metadata": {},
   "outputs": [],
   "source": []
  },
  {
   "cell_type": "code",
   "execution_count": 7,
   "metadata": {},
   "outputs": [
    {
     "name": "stdout",
     "output_type": "stream",
     "text": [
      "0.0\n",
      "Total score (averaged over agents) this episode: -0.004999999888241291\n",
      "0.0\n",
      "Total score (averaged over agents) this episode: 0.04500000085681677\n",
      "0.0\n",
      "Total score (averaged over agents) this episode: 0.04500000085681677\n",
      "0.0\n",
      "Total score (averaged over agents) this episode: -0.004999999888241291\n",
      "0.0\n",
      "Total score (averaged over agents) this episode: -0.004999999888241291\n"
     ]
    }
   ],
   "source": [
    "for i in range(5):                                         # play game for 5 episodes\n",
    "    env_info = env.reset(train_mode=True)[brain_name]     # reset the environment    \n",
    "    states = env_info.vector_observations                  # get the current state (for each agent)\n",
    "    scores = np.zeros(num_agents)                          # initialize the score (for each agent)\n",
    "    while True:\n",
    "        actions = np.random.randn(num_agents, action_size) # select an action (for each agent)\n",
    "        \n",
    "        actions = np.clip(actions, -1, 1)\n",
    "        #print(actions[0])# all actions between -1 and 1\n",
    "        env_info = env.step(actions)[brain_name]           # send all actions to tne environment\n",
    "        next_states = env_info.vector_observations         # get next state (for each agent)\n",
    "        rewards = env_info.rewards                         # get reward (for each agent)\n",
    "       \n",
    "        dones = env_info.local_done                        # see if episode finished\n",
    "        scores += env_info.rewards                         # update the score (for each agent)\n",
    "        states = next_states                               # roll over states to next time step\n",
    "        if np.any(dones):\n",
    "            print(scores[0])                                           # exit loop if episode finished\n",
    "            break\n",
    "    print('Total score (averaged over agents) this episode: {}'.format(np.mean(scores)))"
   ]
  },
  {
   "cell_type": "markdown",
   "metadata": {},
   "source": [
    "When finished, you can close the environment."
   ]
  },
  {
   "cell_type": "code",
   "execution_count": 8,
   "metadata": {},
   "outputs": [
    {
     "name": "stdout",
     "output_type": "stream",
     "text": [
      "hi Gabe\n",
      "hello\n",
      "hello\n",
      "hi Gabe\n",
      "hello\n",
      "hello\n"
     ]
    }
   ],
   "source": [
    "#create a shared memory for boths agents\n",
    "buffer=ReplayBuffer(action_size=2, buffer_size=int(1e6), batch_size=512, seed=2)\n",
    "    \n",
    "agentA = Agentv03(state_size=24, action_size=2,repBuffer=buffer, random_seed=2)\n",
    "agentB=Agentv03(state_size=24, action_size=2,repBuffer=buffer, random_seed=2)"
   ]
  },
  {
   "cell_type": "code",
   "execution_count": 9,
   "metadata": {},
   "outputs": [],
   "source": [
    "agentA.actor_local.load_state_dict(torch.load('checkpoint_actorA.pth',map_location=lambda storage, loc: storage))\n",
    "agentA.actor_target.load_state_dict(torch.load('checkpoint_actorA.pth',map_location=lambda storage, loc: storage))\n",
    "\n",
    "agentA.critic_local.load_state_dict(torch.load('checkpoint_criticA.pth',map_location=lambda storage, loc: storage))\n",
    "agentA.critic_target.load_state_dict(torch.load('checkpoint_criticA.pth',map_location=lambda storage, loc: storage))\n",
    "\n",
    "\n",
    "agentB.actor_local.load_state_dict(torch.load('checkpoint_actorB.pth',map_location=lambda storage, loc: storage))\n",
    "agentB.actor_target.load_state_dict(torch.load('checkpoint_actorB.pth',map_location=lambda storage, loc: storage))\n",
    "\n",
    "agentB.critic_local.load_state_dict(torch.load('checkpoint_criticB.pth',map_location=lambda storage, loc: storage))\n",
    "agentB.critic_target.load_state_dict(torch.load('checkpoint_criticB.pth',map_location=lambda storage, loc: storage))\n",
    "\n"
   ]
  },
  {
   "cell_type": "code",
   "execution_count": 10,
   "metadata": {},
   "outputs": [
    {
     "name": "stdout",
     "output_type": "stream",
     "text": [
      "Episode 18\tAverage Score: -0.00"
     ]
    },
    {
     "name": "stderr",
     "output_type": "stream",
     "text": [
      "/home/workspace/ddpg_agent3.py:114: UserWarning: torch.nn.utils.clip_grad_norm is now deprecated in favor of torch.nn.utils.clip_grad_norm_.\n",
      "  torch.nn.utils.clip_grad_norm(self.critic_local.parameters(), 1)\n"
     ]
    },
    {
     "name": "stdout",
     "output_type": "stream",
     "text": [
      "Episode 500\tAverage Score: -0.00\n",
      "Episode 1000\tAverage Score: -0.00\n",
      "Episode 1500\tAverage Score: -0.00\n",
      "Episode 2000\tAverage Score: -0.00\n",
      "Episode 2500\tAverage Score: 0.000\n",
      "Episode 3000\tAverage Score: -0.00\n",
      "Episode 3500\tAverage Score: -0.00\n",
      "Episode 4000\tAverage Score: -0.00\n",
      "Episode 4500\tAverage Score: -0.00\n",
      "Episode 5000\tAverage Score: -0.00\n",
      "Episode 5500\tAverage Score: -0.00\n",
      "Episode 6000\tAverage Score: -0.00\n",
      "Episode 6500\tAverage Score: -0.00\n",
      "Episode 7000\tAverage Score: -0.00\n",
      "Episode 7500\tAverage Score: -0.00\n",
      "Episode 8000\tAverage Score: -0.00\n",
      "Episode 8500\tAverage Score: -0.00\n",
      "Episode 9000\tAverage Score: -0.00\n",
      "Episode 9500\tAverage Score: -0.00\n",
      "Episode 10000\tAverage Score: -0.00\n"
     ]
    },
    {
     "data": {
      "image/png": "[encoded data removed]",
      "text/plain": [
       "<matplotlib.figure.Figure at 0x7fe4b02edeb8>"
      ]
     },
     "metadata": {
      "needs_background": "light"
     },
     "output_type": "display_data"
    }
   ],
   "source": [
    "actions = np.random.randn(num_agents, action_size)\n",
    "\n",
    "def ddpg(k_episodes=10000,max_t=1000, print_every=500):\n",
    "    scores_deque = deque(maxlen=print_every)\n",
    "    scores = []\n",
    "    for i_episode in range(1, k_episodes+1):\n",
    "        env_info = env.reset(train_mode=True)[brain_name]      # reset the environment    \n",
    "        states = env_info.vector_observations                  # get the current state (for each agent)\n",
    "        #state=np.random(33)\n",
    "        #print(state)\n",
    "        agentA.reset()\n",
    "        agentB.reset()\n",
    "        score = np.zeros(num_agents)\n",
    "        #print(score)\n",
    "        for t in range(max_t):\n",
    "            stateA=states[0].reshape(-1,1).T # transpose the array to fit the model\n",
    "            stateB=states[1].reshape(-1,1).T\n",
    "            actions[0] = agentA.act(stateA) #take each of the 2 actions and assign each to an AI agent\n",
    "            actions[1] = agentB.act(stateB) #take each of the 2 actions and assign each to an AI agent\n",
    "            #print(actions[0].shape)\n",
    "            #print(actions[0])\n",
    "            env_info = env.step(actions)[brain_name]           # send all actions to tne environment\n",
    "            next_states = env_info.vector_observations         # get next state (for each agent)\n",
    "            rewards = env_info.rewards                         # get reward (for each agent)\n",
    "            #reward = env_info.rewards\n",
    "            done=env_info.local_done\n",
    "            #done0 = env_info.local_done[0]                        # see if episode finished\n",
    "            #scores += env_info.rewards                         # update the score (for each agent)\n",
    "\n",
    "            #next_state, reward, done, _ = env.step(action)\n",
    "            next_stateA=next_states[0].reshape(-1,1).T\n",
    "            next_stateB=next_states[1].reshape(-1,1).T\n",
    "            agentA.step(stateA, actions[0], rewards[0], next_stateA, done[0])\n",
    "            agentB.step(stateB,actions[1],rewards[1],next_stateB,done[1])\n",
    "            \n",
    "            states = next_states\n",
    "            #reward = env_info.rewards\n",
    "            #score += reward0\n",
    "            score += env_info.rewards\n",
    "            \n",
    "            if np.any(done):\n",
    "                break \n",
    "        scores_deque.append(score)\n",
    "        scores.append(score)\n",
    "        print('\\rEpisode {}\\tAverage Score: {:.2f}'.format(i_episode, np.mean(scores_deque)), end=\"\")\n",
    "        torch.save(agentA.actor_local.state_dict(), 'checkpoint_actorA.pth')\n",
    "        torch.save(agentA.critic_local.state_dict(), 'checkpoint_criticA.pth')\n",
    "        torch.save(agentB.actor_local.state_dict(), 'checkpoint_actorB.pth')\n",
    "        torch.save(agentB.critic_local.state_dict(), 'checkpoint_criticB.pth')\n",
    "        if i_episode % print_every == 0:\n",
    "            print('\\rEpisode {}\\tAverage Score: {:.2f}'.format(i_episode, np.mean(scores_deque)))\n",
    "        if  np.mean(scores_deque) >=0.5:\n",
    "            break\n",
    "    return scores\n",
    "\n",
    "scores = ddpg()\n",
    "\n",
    "fig = plt.figure()\n",
    "ax = fig.add_subplot(111)\n",
    "plt.plot(np.arange(1, len(scores)+1), scores)\n",
    "plt.ylabel('Score')\n",
    "plt.xlabel('Episode #')\n",
    "plt.show()"
   ]
  },
  {
   "cell_type": "code",
   "execution_count": null,
   "metadata": {},
   "outputs": [],
   "source": []
  },
  {
   "cell_type": "code",
   "execution_count": 12,
   "metadata": {},
   "outputs": [],
   "source": [
    "torch.save(agentA.actor_local.state_dict(), 'checkpoint_actorA.pth')\n",
    "torch.save(agentA.critic_local.state_dict(), 'checkpoint_criticA.pth')\n",
    "torch.save(agentB.actor_local.state_dict(), 'checkpoint_actorB.pth')\n",
    "torch.save(agentB.critic_local.state_dict(), 'checkpoint_criticB.pth')"
   ]
  },
  {
   "cell_type": "markdown",
   "metadata": {},
   "source": [
    "### 4. It's Your Turn!\n",
    "\n",
    "Now it's your turn to train your own agent to solve the environment!  A few **important notes**:\n",
    "- When training the environment, set `train_mode=True`, so that the line for resetting the environment looks like the following:\n",
    "```python\n",
    "env_info = env.reset(train_mode=True)[brain_name]\n",
    "```\n",
    "- To structure your work, you're welcome to work directly in this Jupyter notebook, or you might like to start over with a new file!  You can see the list of files in the workspace by clicking on **_Jupyter_** in the top left corner of the notebook.\n",
    "- In this coding environment, you will not be able to watch the agents while they are training.  However, **_after training the agents_**, you can download the saved model weights to watch the agents on your own machine! "
   ]
  }
 ],
 "metadata": {
  "kernelspec": {
   "display_name": "Python 3",
   "language": "python",
   "name": "python3"
  },
  "language_info": {
   "codemirror_mode": {
    "name": "ipython",
    "version": 3
   },
   "file_extension": ".py",
   "mimetype": "text/x-python",
   "name": "python",
   "nbconvert_exporter": "python",
   "pygments_lexer": "ipython3",
   "version": "3.6.3"
  }
 },
 "nbformat": 4,
 "nbformat_minor": 2
}
