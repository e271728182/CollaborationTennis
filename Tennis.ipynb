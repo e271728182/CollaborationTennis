{
 "cells": [
  {
   "cell_type": "markdown",
   "metadata": {},
   "source": [
    "# Collaboration and Competition\n",
    "\n",
    "---\n",
    "\n",
    "You are welcome to use this coding environment to train your agent for the project.  Follow the instructions below to get started!\n",
    "\n",
    "### 1. Start the Environment\n",
    "\n",
    "Run the next code cell to install a few packages.  This line will take a few minutes to run!"
   ]
  },
  {
   "cell_type": "code",
   "execution_count": 1,
   "metadata": {},
   "outputs": [],
   "source": [
    "!pip -q install ./python"
   ]
  },
  {
   "cell_type": "code",
   "execution_count": 2,
   "metadata": {},
   "outputs": [],
   "source": [
    "import gym\n",
    "import random\n",
    "import torch\n",
    "import numpy as np\n",
    "from collections import deque\n",
    "import matplotlib.pyplot as plt\n",
    "%matplotlib inline\n",
    "\n",
    "#from ddpg_agent import Agent\n",
    "from ddpg_agent4 import *\n",
    "from maddpg import *"
   ]
  },
  {
   "cell_type": "markdown",
   "metadata": {},
   "source": [
    "The environment is already saved in the Workspace and can be accessed at the file path provided below. "
   ]
  },
  {
   "cell_type": "code",
   "execution_count": 3,
   "metadata": {},
   "outputs": [
    {
     "name": "stderr",
     "output_type": "stream",
     "text": [
      "INFO:unityagents:\n",
      "'Academy' started successfully!\n",
      "Unity Academy name: Academy\n",
      "        Number of Brains: 1\n",
      "        Number of External Brains : 1\n",
      "        Lesson number : 0\n",
      "        Reset Parameters :\n",
      "\t\t\n",
      "Unity brain name: TennisBrain\n",
      "        Number of Visual Observations (per agent): 0\n",
      "        Vector Observation space type: continuous\n",
      "        Vector Observation space size (per agent): 8\n",
      "        Number of stacked Vector Observation: 3\n",
      "        Vector Action space type: continuous\n",
      "        Vector Action space size (per agent): 2\n",
      "        Vector Action descriptions: , \n"
     ]
    }
   ],
   "source": [
    "from unityagents import UnityEnvironment\n",
    "import numpy as np\n",
    "\n",
    "env = UnityEnvironment(file_name=\"/data/Tennis_Linux_NoVis/Tennis\")"
   ]
  },
  {
   "cell_type": "markdown",
   "metadata": {},
   "source": [
    "Environments contain **_brains_** which are responsible for deciding the actions of their associated agents. Here we check for the first brain available, and set it as the default brain we will be controlling from Python."
   ]
  },
  {
   "cell_type": "code",
   "execution_count": 4,
   "metadata": {},
   "outputs": [
    {
     "name": "stdout",
     "output_type": "stream",
     "text": [
      "['TennisBrain']\n"
     ]
    }
   ],
   "source": [
    "print(env.brain_names)\n",
    "# get the default brain\n",
    "brain_name = env.brain_names[0]\n",
    "brain = env.brains[brain_name]\n"
   ]
  },
  {
   "cell_type": "markdown",
   "metadata": {},
   "source": [
    "### 2. Examine the State and Action Spaces\n",
    "\n",
    "Run the code cell below to print some information about the environment."
   ]
  },
  {
   "cell_type": "code",
   "execution_count": 5,
   "metadata": {},
   "outputs": [
    {
     "name": "stdout",
     "output_type": "stream",
     "text": [
      "Number of agents: 2\n",
      "Size of each action: 2\n",
      "There are 2 agents. Each observes a state with length: 24\n",
      "The state for the first agent looks like: [ 0.          0.          0.          0.          0.          0.          0.\n",
      "  0.          0.          0.          0.          0.          0.          0.\n",
      "  0.          0.         -6.4669857  -1.5         0.          0.\n",
      " -6.83172083  6.          0.          0.        ]\n"
     ]
    }
   ],
   "source": [
    "# reset the environment\n",
    "env_info = env.reset(train_mode=True)[brain_name]\n",
    "\n",
    "# number of agents \n",
    "num_agents = len(env_info.agents)\n",
    "print('Number of agents:', num_agents)\n",
    "\n",
    "# size of each action\n",
    "action_size = brain.vector_action_space_size\n",
    "print('Size of each action:', action_size)\n",
    "\n",
    "# examine the state space \n",
    "states = env_info.vector_observations\n",
    "state_size = states.shape[1]\n",
    "print('There are {} agents. Each observes a state with length: {}'.format(states.shape[0], state_size))\n",
    "print('The state for the first agent looks like:', states[1])"
   ]
  },
  {
   "cell_type": "code",
   "execution_count": 11,
   "metadata": {},
   "outputs": [
    {
     "name": "stdout",
     "output_type": "stream",
     "text": [
      "2\n"
     ]
    }
   ],
   "source": [
    "print(action_size)"
   ]
  },
  {
   "cell_type": "markdown",
   "metadata": {},
   "source": [
    "### 3. Take Random Actions in the Environment\n",
    "\n",
    "In the next code cell, you will learn how to use the Python API to control the agent and receive feedback from the environment.\n",
    "\n",
    "Note that **in this coding environment, you will not be able to watch the agents while they are training**, and you should set `train_mode=True` to restart the environment."
   ]
  },
  {
   "cell_type": "code",
   "execution_count": 6,
   "metadata": {},
   "outputs": [
    {
     "name": "stdout",
     "output_type": "stream",
     "text": [
      "(2, 24)\n",
      "(1, 24)\n"
     ]
    }
   ],
   "source": [
    "actions = np.random.randn(num_agents, action_size)\n",
    "states = env_info.vector_observations \n",
    "a=states[0]\n",
    "b=states[1]\n",
    "print(states.shape)\n",
    "s=states[0].reshape(-1,1).T\n",
    "print(s.shape)"
   ]
  },
  {
   "cell_type": "code",
   "execution_count": 10,
   "metadata": {},
   "outputs": [
    {
     "data": {
      "text/plain": [
       "(1, 24)"
      ]
     },
     "execution_count": 10,
     "metadata": {},
     "output_type": "execute_result"
    }
   ],
   "source": [
    "np.expand_dims(states[0], axis=0).shape"
   ]
  },
  {
   "cell_type": "code",
   "execution_count": 9,
   "metadata": {},
   "outputs": [
    {
     "name": "stdout",
     "output_type": "stream",
     "text": [
      "0.0\n",
      "Total score (averaged over agents) this episode: 0.04500000178813934\n",
      "-0.00999999977648\n",
      "Total score (averaged over agents) this episode: -0.004999999888241291\n",
      "0.0\n",
      "Total score (averaged over agents) this episode: -0.004999999888241291\n",
      "-0.00999999977648\n",
      "Total score (averaged over agents) this episode: -0.004999999888241291\n",
      "0.0\n",
      "Total score (averaged over agents) this episode: -0.004999999888241291\n"
     ]
    }
   ],
   "source": [
    "for i in range(5):                                         # play game for 5 episodes\n",
    "    env_info = env.reset(train_mode=True)[brain_name]     # reset the environment    \n",
    "    states = env_info.vector_observations                  # get the current state (for each agent)\n",
    "    scores = np.zeros(num_agents)                          # initialize the score (for each agent)\n",
    "    while True:\n",
    "        actions = np.random.randn(num_agents, action_size) # select an action (for each agent)\n",
    "        \n",
    "        actions = np.clip(actions, -1, 1)\n",
    "        #print(actions[0])# all actions between -1 and 1\n",
    "        env_info = env.step(actions)[brain_name]           # send all actions to tne environment\n",
    "        next_states = env_info.vector_observations         # get next state (for each agent)\n",
    "        rewards = env_info.rewards                         # get reward (for each agent)\n",
    "        #print( env_info.rewards)\n",
    "        dones = env_info.local_done                        # see if episode finished\n",
    "        scores += env_info.rewards                         # update the score (for each agent)\n",
    "        states = next_states                               # roll over states to next time step\n",
    "        if np.any(dones):\n",
    "            print(scores[0])                                           # exit loop if episode finished\n",
    "            break\n",
    "    print('Total score (averaged over agents) this episode: {}'.format(np.mean(scores)))"
   ]
  },
  {
   "cell_type": "code",
   "execution_count": 11,
   "metadata": {},
   "outputs": [
    {
     "data": {
      "text/plain": [
       "numpy.ndarray"
      ]
     },
     "execution_count": 11,
     "metadata": {},
     "output_type": "execute_result"
    }
   ],
   "source": [
    "#rewards.shape\n",
    "np.expand_dims(actions[0], axis=0).shape\n",
    "type(actions)"
   ]
  },
  {
   "cell_type": "code",
   "execution_count": 47,
   "metadata": {},
   "outputs": [
    {
     "data": {
      "text/plain": [
       "[2]"
      ]
     },
     "execution_count": 47,
     "metadata": {},
     "output_type": "execute_result"
    }
   ],
   "source": [
    "x=[]\n",
    "x.append(1)\n",
    "x.pop(0)\n",
    "x.append(2)\n",
    "x"
   ]
  },
  {
   "cell_type": "code",
   "execution_count": 11,
   "metadata": {},
   "outputs": [
    {
     "data": {
      "text/plain": [
       "array([ 2.])"
      ]
     },
     "execution_count": 11,
     "metadata": {},
     "output_type": "execute_result"
    }
   ],
   "source": [
    "x=np.zeros(1)\n",
    "x[0]=1\n",
    "x[0]=2\n",
    "x"
   ]
  },
  {
   "cell_type": "code",
   "execution_count": 49,
   "metadata": {},
   "outputs": [
    {
     "name": "stdout",
     "output_type": "stream",
     "text": [
      "[[ 0.02472141  0.02074921]\n",
      " [ 3.          4.        ]]\n"
     ]
    }
   ],
   "source": [
    "\n",
    "np.expand_dims(states, axis=0)\n",
    "\n",
    "x=np.expand_dims(np.array([ 0.02472141,  0.02074921]),axis=0)\n",
    "y=np.expand_dims(np.array([3, 4]),axis=0)\n",
    "z=[]\n",
    "z.append(x)\n",
    "z.append(y)\n",
    "zz=np.squeeze(np.array(z),axis=1)\n",
    "print(zz)"
   ]
  },
  {
   "cell_type": "markdown",
   "metadata": {},
   "source": [
    "When finished, you can close the environment."
   ]
  },
  {
   "cell_type": "code",
   "execution_count": 6,
   "metadata": {},
   "outputs": [],
   "source": [
    "#create a shared memory for boths agents\n",
    "buffer=ReplayBuffer(action_size=2, buffer_size=int(1e6), batch_size=512, seed=2)\n",
    "#create a shared memory for boths agents\n",
    "\n",
    "    \n",
    "agentA = Agentv04(state_size=24, action_size=2, random_seed=2)\n",
    "agentB=Agentv04(state_size=24, action_size=2,random_seed=2)    \n",
    "\n",
    "# plot the scores\n",
    "#agentA.actor_local.load_state_dict(torch.load('checkpoint_actor.pth',map_location=lambda storage, loc: storage))\n",
    "#agentA.actor_target.load_state_dict(torch.load('checkpoint_actor.pth',map_location=lambda storage, loc: storage))\n",
    "#agentA.critic_local.load_state_dict(torch.load('checkpoint_critic.pth',map_location=lambda storage, loc: storage))\n",
    "#agentA.critic_target.load_state_dict(torch.load('checkpoint_critic.pth',map_location=lambda storage, loc: storage))\n",
    "\n",
    "\n",
    "#agentB.actor_local.load_state_dict(torch.load('checkpoint_actor.pth',map_location=lambda storage, loc: storage))\n",
    "#agentB.actor_target.load_state_dict(torch.load('checkpoint_actor.pth',map_location=lambda storage, loc: storage))\n",
    "#agentB.critic_local.load_state_dict(torch.load('checkpoint_critic.pth',map_location=lambda storage, loc: storage))\n",
    "#\n",
    "\n",
    "\n",
    "ddpgList=[]\n",
    "ddpgList.append(agentA)\n",
    "ddpgList.append(agentB)\n",
    "maddpg=MADDPG(agentList=ddpgList,sharedMemory=buffer)\n"
   ]
  },
  {
   "cell_type": "code",
   "execution_count": 1,
   "metadata": {},
   "outputs": [
    {
     "ename": "NameError",
     "evalue": "name 'agentA' is not defined",
     "output_type": "error",
     "traceback": [
      "\u001b[0;31m---------------------------------------------------------------------------\u001b[0m",
      "\u001b[0;31mNameError\u001b[0m                                 Traceback (most recent call last)",
      "\u001b[0;32m<ipython-input-1-fae8dae8b0e1>\u001b[0m in \u001b[0;36m<module>\u001b[0;34m()\u001b[0m\n\u001b[0;32m----> 1\u001b[0;31m \u001b[0magentA\u001b[0m\u001b[0;34m.\u001b[0m\u001b[0mactor_local\u001b[0m\u001b[0;34m.\u001b[0m\u001b[0mload_state_dict\u001b[0m\u001b[0;34m(\u001b[0m\u001b[0mtorch\u001b[0m\u001b[0;34m.\u001b[0m\u001b[0mload\u001b[0m\u001b[0;34m(\u001b[0m\u001b[0;34m'checkpoint_actor.pth'\u001b[0m\u001b[0;34m,\u001b[0m\u001b[0mmap_location\u001b[0m\u001b[0;34m=\u001b[0m\u001b[0;32mlambda\u001b[0m \u001b[0mstorage\u001b[0m\u001b[0;34m,\u001b[0m \u001b[0mloc\u001b[0m\u001b[0;34m:\u001b[0m \u001b[0mstorage\u001b[0m\u001b[0;34m)\u001b[0m\u001b[0;34m)\u001b[0m\u001b[0;34m\u001b[0m\u001b[0m\n\u001b[0m\u001b[1;32m      2\u001b[0m \u001b[0magentA\u001b[0m\u001b[0;34m.\u001b[0m\u001b[0mactor_target\u001b[0m\u001b[0;34m.\u001b[0m\u001b[0mload_state_dict\u001b[0m\u001b[0;34m(\u001b[0m\u001b[0mtorch\u001b[0m\u001b[0;34m.\u001b[0m\u001b[0mload\u001b[0m\u001b[0;34m(\u001b[0m\u001b[0;34m'checkpoint_actor.pth'\u001b[0m\u001b[0;34m,\u001b[0m\u001b[0mmap_location\u001b[0m\u001b[0;34m=\u001b[0m\u001b[0;32mlambda\u001b[0m \u001b[0mstorage\u001b[0m\u001b[0;34m,\u001b[0m \u001b[0mloc\u001b[0m\u001b[0;34m:\u001b[0m \u001b[0mstorage\u001b[0m\u001b[0;34m)\u001b[0m\u001b[0;34m)\u001b[0m\u001b[0;34m\u001b[0m\u001b[0m\n\u001b[1;32m      3\u001b[0m \u001b[0;34m\u001b[0m\u001b[0m\n\u001b[1;32m      4\u001b[0m \u001b[0magentA\u001b[0m\u001b[0;34m.\u001b[0m\u001b[0mcritic_local\u001b[0m\u001b[0;34m.\u001b[0m\u001b[0mload_state_dict\u001b[0m\u001b[0;34m(\u001b[0m\u001b[0mtorch\u001b[0m\u001b[0;34m.\u001b[0m\u001b[0mload\u001b[0m\u001b[0;34m(\u001b[0m\u001b[0;34m'checkpoint_critic.pth'\u001b[0m\u001b[0;34m,\u001b[0m\u001b[0mmap_location\u001b[0m\u001b[0;34m=\u001b[0m\u001b[0;32mlambda\u001b[0m \u001b[0mstorage\u001b[0m\u001b[0;34m,\u001b[0m \u001b[0mloc\u001b[0m\u001b[0;34m:\u001b[0m \u001b[0mstorage\u001b[0m\u001b[0;34m)\u001b[0m\u001b[0;34m)\u001b[0m\u001b[0;34m\u001b[0m\u001b[0m\n\u001b[1;32m      5\u001b[0m \u001b[0magentA\u001b[0m\u001b[0;34m.\u001b[0m\u001b[0mcritic_target\u001b[0m\u001b[0;34m.\u001b[0m\u001b[0mload_state_dict\u001b[0m\u001b[0;34m(\u001b[0m\u001b[0mtorch\u001b[0m\u001b[0;34m.\u001b[0m\u001b[0mload\u001b[0m\u001b[0;34m(\u001b[0m\u001b[0;34m'checkpoint_critic.pth'\u001b[0m\u001b[0;34m,\u001b[0m\u001b[0mmap_location\u001b[0m\u001b[0;34m=\u001b[0m\u001b[0;32mlambda\u001b[0m \u001b[0mstorage\u001b[0m\u001b[0;34m,\u001b[0m \u001b[0mloc\u001b[0m\u001b[0;34m:\u001b[0m \u001b[0mstorage\u001b[0m\u001b[0;34m)\u001b[0m\u001b[0;34m)\u001b[0m\u001b[0;34m\u001b[0m\u001b[0m\n",
      "\u001b[0;31mNameError\u001b[0m: name 'agentA' is not defined"
     ]
    }
   ],
   "source": [
    "agentA.actor_local.load_state_dict(torch.load('checkpoint_actor.pth',map_location=lambda storage, loc: storage))\n",
    "agentA.actor_target.load_state_dict(torch.load('checkpoint_actor.pth',map_location=lambda storage, loc: storage))\n",
    "\n",
    "agentA.critic_local.load_state_dict(torch.load('checkpoint_critic.pth',map_location=lambda storage, loc: storage))\n",
    "agentA.critic_target.load_state_dict(torch.load('checkpoint_critic.pth',map_location=lambda storage, loc: storage))\n",
    "\n",
    "\n",
    "agentB.actor_local.load_state_dict(torch.load('checkpoint_actor.pth',map_location=lambda storage, loc: storage))\n",
    "agentB.actor_target.load_state_dict(torch.load('checkpoint_actor.pth',map_location=lambda storage, loc: storage))\n",
    "\n",
    "agentB.critic_local.load_state_dict(torch.load('checkpoint_critic.pth',map_location=lambda storage, loc: storage))\n",
    "agentB.critic_target.load_state_dict(torch.load('checkpoint_critic.pth',map_location=lambda storage, loc: storage))\n",
    "\n"
   ]
  },
  {
   "cell_type": "code",
   "execution_count": 8,
   "metadata": {},
   "outputs": [],
   "source": [
    "all_scores = []\n",
    "def ddpg(n_episodes=2500, max_t=1500):\n",
    "    \n",
    "    scores_window = deque(maxlen=100)\n",
    "    \n",
    "    for i_episode in range(1, n_episodes+1):\n",
    "        \n",
    "        maddpg.reset()\n",
    "        env_info = env.reset(train_mode=True)[brain_name]\n",
    "        states = env_info.vector_observations           \n",
    "        scores = np.zeros(num_agents)\n",
    "\n",
    "        for i in range(max_t):\n",
    "            actions = maddpg.act(states)\n",
    "            actions=np.squeeze(actions,axis=1)\n",
    "            #print(actions.shape)\n",
    "            #print(np.array(actions).shape)\n",
    "            env_info = env.step(actions)[brain_name]\n",
    "            rewards = env_info.rewards\n",
    "            next_states = env_info.vector_observations\n",
    "            dones = env_info.local_done\n",
    "\n",
    "            maddpg.step(states, actions, rewards, next_states, dones)\n",
    "            maddpg.learNiceThings()\n",
    "            scores += rewards\n",
    "            #print('scores: ',scores)\n",
    "            states = next_states\n",
    "\n",
    "            if np.any(dones):\n",
    "                break\n",
    "                \n",
    "        max_score = max(scores)\n",
    "        scores_window.append(max_score)\n",
    "        all_scores.append(max_score)\n",
    "        #print(all_scores)\n",
    "        print('\\rEpisode {}\\tAverage Score: {:.2f}'.format(i_episode, np.mean(scores_window)), end=\"\")\n",
    "        if i_episode % 25== 0:\n",
    "            print('\\rEpisode {}\\tAverage Score: {:.2f}'.format(i_episode, np.mean(scores_window)))\n",
    "            torch.save(maddpg.ddpg_agents[0].actor_local.state_dict(), 'checkpoint_actor69.pth')\n",
    "            torch.save(maddpg.ddpg_agents[0].critic_local.state_dict(), 'checkpoint_critic69.pth')\n",
    "            torch.save(maddpg.ddpg_agents[1].actor_local.state_dict(), 'checkpoint_actor71.pth')\n",
    "            torch.save(maddpg.ddpg_agents[1].critic_local.state_dict(), 'checkpoint_critic71.pth')           \n",
    "        if np.mean(scores_window)>=0.5:\n",
    "            print('\\ Merry Christmas!! nEnvironment solved in {:d} episodes!\\tAverage Score: {:.2f}'.format(i_episode-5, np.mean(scores_window)))\n",
    "            torch.save(maddpg.ddpg_agents[0].actor_local.state_dict(), 'checkpoint_actor69.pth')\n",
    "            torch.save(maddpg.ddpg_agents[0].critic_local.state_dict(), 'checkpoint_critic69.pth')\n",
    "            torch.save(maddpg.ddpg_agents[1].actor_local.state_dict(), 'checkpoint_actor71.pth')\n",
    "            torch.save(maddpg.ddpg_agents[1].critic_local.state_dict(), 'checkpoint_critic71.pth')              \n",
    "            break \n",
    "            \n",
    "    return all_scores"
   ]
  },
  {
   "cell_type": "code",
   "execution_count": 9,
   "metadata": {},
   "outputs": [
    {
     "name": "stdout",
     "output_type": "stream",
     "text": [
      "Episode 16\tAverage Score: 0.01"
     ]
    },
    {
     "name": "stderr",
     "output_type": "stream",
     "text": [
      "/home/workspace/ddpg_agent4.py:105: UserWarning: torch.nn.utils.clip_grad_norm is now deprecated in favor of torch.nn.utils.clip_grad_norm_.\n",
      "  torch.nn.utils.clip_grad_norm(self.critic_local.parameters(), 1)\n"
     ]
    },
    {
     "name": "stdout",
     "output_type": "stream",
     "text": [
      "Episode 25\tAverage Score: 0.00\n",
      "Episode 50\tAverage Score: 0.00\n",
      "Episode 75\tAverage Score: 0.00\n",
      "Episode 100\tAverage Score: 0.00\n",
      "Episode 125\tAverage Score: 0.00\n",
      "Episode 150\tAverage Score: 0.00\n",
      "Episode 175\tAverage Score: 0.00\n",
      "Episode 200\tAverage Score: 0.00\n",
      "Episode 225\tAverage Score: 0.00\n",
      "Episode 250\tAverage Score: 0.00\n",
      "Episode 275\tAverage Score: 0.00\n",
      "Episode 300\tAverage Score: 0.00\n",
      "Episode 325\tAverage Score: 0.00\n",
      "Episode 350\tAverage Score: 0.01\n",
      "Episode 375\tAverage Score: 0.02\n",
      "Episode 400\tAverage Score: 0.03\n",
      "Episode 425\tAverage Score: 0.04\n",
      "Episode 450\tAverage Score: 0.04\n",
      "Episode 475\tAverage Score: 0.04\n",
      "Episode 500\tAverage Score: 0.05\n",
      "Episode 525\tAverage Score: 0.06\n",
      "Episode 550\tAverage Score: 0.06\n",
      "Episode 575\tAverage Score: 0.08\n",
      "Episode 600\tAverage Score: 0.09\n",
      "Episode 625\tAverage Score: 0.10\n",
      "Episode 650\tAverage Score: 0.12\n",
      "Episode 675\tAverage Score: 0.12\n",
      "Episode 700\tAverage Score: 0.15\n",
      "Episode 725\tAverage Score: 0.17\n",
      "Episode 750\tAverage Score: 0.19\n",
      "Episode 775\tAverage Score: 0.24\n",
      "Episode 800\tAverage Score: 0.34\n",
      "Episode 825\tAverage Score: 0.48\n",
      "Episode 826\tAverage Score: 0.51\\ Merry Christmas!! nEnvironment solved in 821 episodes!\tAverage Score: 0.51\n"
     ]
    },
    {
     "data": {
      "image/png": "[encoded data removed]",
      "text/plain": [
       "<matplotlib.figure.Figure at 0x7f28f01c5668>"
      ]
     },
     "metadata": {
      "needs_background": "light"
     },
     "output_type": "display_data"
    }
   ],
   "source": [
    "\n",
    "scores = ddpg()\n",
    "\n",
    "# plot the scores\n",
    "fig = plt.figure()\n",
    "ax = fig.add_subplot(111)\n",
    "plt.plot(np.arange(len(all_scores)), all_scores)\n",
    "plt.ylabel('Score')\n",
    "plt.xlabel('Episode #')\n",
    "plt.show()"
   ]
  },
  {
   "cell_type": "code",
   "execution_count": 12,
   "metadata": {},
   "outputs": [],
   "source": [
    "torch.save(agentA.actor_local.state_dict(), 'checkpoint_actorA.pth')\n",
    "torch.save(agentA.critic_local.state_dict(), 'checkpoint_criticA.pth')\n",
    "torch.save(agentB.actor_local.state_dict(), 'checkpoint_actorB.pth')\n",
    "torch.save(agentB.critic_local.state_dict(), 'checkpoint_criticB.pth')"
   ]
  },
  {
   "cell_type": "markdown",
   "metadata": {},
   "source": [
    "### 4. It's Your Turn!\n",
    "\n",
    "Now it's your turn to train your own agent to solve the environment!  A few **important notes**:\n",
    "- When training the environment, set `train_mode=True`, so that the line for resetting the environment looks like the following:\n",
    "```python\n",
    "env_info = env.reset(train_mode=True)[brain_name]\n",
    "```\n",
    "- To structure your work, you're welcome to work directly in this Jupyter notebook, or you might like to start over with a new file!  You can see the list of files in the workspace by clicking on **_Jupyter_** in the top left corner of the notebook.\n",
    "- In this coding environment, you will not be able to watch the agents while they are training.  However, **_after training the agents_**, you can download the saved model weights to watch the agents on your own machine! "
   ]
  }
 ],
 "metadata": {
  "kernelspec": {
   "display_name": "Python 3",
   "language": "python",
   "name": "python3"
  },
  "language_info": {
   "codemirror_mode": {
    "name": "ipython",
    "version": 3
   },
   "file_extension": ".py",
   "mimetype": "text/x-python",
   "name": "python",
   "nbconvert_exporter": "python",
   "pygments_lexer": "ipython3",
   "version": "3.6.3"
  }
 },
 "nbformat": 4,
 "nbformat_minor": 2
}
